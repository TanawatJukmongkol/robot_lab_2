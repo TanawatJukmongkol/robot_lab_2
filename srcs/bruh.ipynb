{
 "cells": [
  {
   "cell_type": "code",
   "execution_count": null,
   "id": "a480c926",
   "metadata": {},
   "outputs": [
    {
     "name": "stderr",
     "output_type": "stream",
     "text": [
      "[INFO] tello.py - 129 - Tello instance was initialized. Host: '192.168.10.1'. Port: '8889'.\n",
      "[2025-07-18 16:27:51,489] [    INFO] tello.py:129 - Tello instance was initialized. Host: '192.168.10.1'. Port: '8889'.\n",
      "[INFO] tello.py - 438 - Send command: 'command'\n",
      "[2025-07-18 16:27:51,498] [    INFO] tello.py:438 - Send command: 'command'\n",
      "[INFO] tello.py - 462 - Response command: 'ok'\n",
      "[2025-07-18 16:27:51,600] [    INFO] tello.py:462 - Response command: 'ok'\n",
      "[INFO] tello.py - 438 - Send command: 'takeoff'\n",
      "[2025-07-18 16:27:51,604] [    INFO] tello.py:438 - Send command: 'takeoff'\n",
      "[INFO] tello.py - 462 - Response takeoff: 'ok'\n",
      "[2025-07-18 16:27:59,119] [    INFO] tello.py:462 - Response takeoff: 'ok'\n"
     ]
    }
   ],
   "source": [
    "from djitellopy import Tello\n",
    "\n",
    "try:\n",
    "    tello = Tello()\n",
    "\n",
    "    tello.connect()\n",
    "    tello.takeoff()\n",
    "\n",
    "except Exception as e:\n",
    "    print(e)"
   ]
  },
  {
   "cell_type": "code",
   "execution_count": null,
   "id": "4d4cd492",
   "metadata": {},
   "outputs": [
    {
     "name": "stderr",
     "output_type": "stream",
     "text": [
      "[INFO] tello.py - 438 - Send command: 'up 30'\n",
      "[2025-07-18 16:28:01,138] [    INFO] tello.py:438 - Send command: 'up 30'\n",
      "[INFO] tello.py - 462 - Response up 30: 'ok'\n",
      "[2025-07-18 16:28:02,645] [    INFO] tello.py:462 - Response up 30: 'ok'\n"
     ]
    },
    {
     "name": "stdout",
     "output_type": "stream",
     "text": [
      "Current height: 90 cm\n"
     ]
    }
   ],
   "source": [
    "try:\n",
    "    tello.move_up(30)\n",
    "    height = tello.get_height()\n",
    "    print(f\"Current height: {height} cm\")\n",
    "    # Wait for stabilization\n",
    "\n",
    "except Exception as e:\n",
    "    print(e)\n",
    "    tello.land()\n",
    "    tello.end()"
   ]
  },
  {
   "cell_type": "code",
   "execution_count": null,
   "id": "3a88784d",
   "metadata": {},
   "outputs": [
    {
     "name": "stderr",
     "output_type": "stream",
     "text": [
      "[INFO] tello.py - 438 - Send command: 'forward 100'\n",
      "[2025-07-18 16:28:03,663] [    INFO] tello.py:438 - Send command: 'forward 100'\n",
      "[INFO] tello.py - 462 - Response forward 100: 'error Motor stop'\n",
      "[2025-07-18 16:28:04,971] [    INFO] tello.py:462 - Response forward 100: 'error Motor stop'\n",
      "[INFO] tello.py - 438 - Send command: 'forward 100'\n",
      "[2025-07-18 16:28:04,976] [    INFO] tello.py:438 - Send command: 'forward 100'\n",
      "[INFO] tello.py - 462 - Response forward 100: 'error Motor stop'\n",
      "[2025-07-18 16:28:05,079] [    INFO] tello.py:462 - Response forward 100: 'error Motor stop'\n",
      "[INFO] tello.py - 438 - Send command: 'forward 100'\n",
      "[2025-07-18 16:28:05,084] [    INFO] tello.py:438 - Send command: 'forward 100'\n",
      "[INFO] tello.py - 462 - Response forward 100: 'error Motor stop'\n",
      "[2025-07-18 16:28:05,187] [    INFO] tello.py:462 - Response forward 100: 'error Motor stop'\n",
      "[INFO] tello.py - 438 - Send command: 'land'\n",
      "[2025-07-18 16:28:05,191] [    INFO] tello.py:438 - Send command: 'land'\n",
      "[INFO] tello.py - 462 - Response land: 'error'\n",
      "[2025-07-18 16:28:05,294] [    INFO] tello.py:462 - Response land: 'error'\n",
      "[INFO] tello.py - 438 - Send command: 'land'\n",
      "[2025-07-18 16:28:05,300] [    INFO] tello.py:438 - Send command: 'land'\n"
     ]
    },
    {
     "name": "stdout",
     "output_type": "stream",
     "text": [
      "Command 'forward 100' was unsuccessful for 4 tries. Latest response:\t'error Motor stop'\n"
     ]
    },
    {
     "name": "stderr",
     "output_type": "stream",
     "text": [
      "[INFO] tello.py - 462 - Response land: 'error'\n",
      "[2025-07-18 16:28:05,402] [    INFO] tello.py:462 - Response land: 'error'\n",
      "[INFO] tello.py - 438 - Send command: 'land'\n",
      "[2025-07-18 16:28:05,406] [    INFO] tello.py:438 - Send command: 'land'\n",
      "[INFO] tello.py - 462 - Response land: 'error'\n",
      "[2025-07-18 16:28:05,509] [    INFO] tello.py:462 - Response land: 'error'\n",
      "[INFO] tello.py - 438 - Send command: 'land'\n",
      "[2025-07-18 16:28:05,537] [    INFO] tello.py:438 - Send command: 'land'\n",
      "[INFO] tello.py - 462 - Response land: 'error'\n",
      "[2025-07-18 16:28:05,640] [    INFO] tello.py:462 - Response land: 'error'\n",
      "[INFO] tello.py - 438 - Send command: 'land'\n",
      "[2025-07-18 16:28:05,645] [    INFO] tello.py:438 - Send command: 'land'\n",
      "[INFO] tello.py - 462 - Response land: 'error'\n",
      "[2025-07-18 16:28:05,748] [    INFO] tello.py:462 - Response land: 'error'\n",
      "[INFO] tello.py - 438 - Send command: 'land'\n",
      "[2025-07-18 16:28:05,752] [    INFO] tello.py:438 - Send command: 'land'\n",
      "[INFO] tello.py - 462 - Response land: 'error'\n",
      "[2025-07-18 16:28:05,854] [    INFO] tello.py:462 - Response land: 'error'\n"
     ]
    },
    {
     "ename": "TelloException",
     "evalue": "Command 'land' was unsuccessful for 4 tries. Latest response:\t'error'",
     "output_type": "error",
     "traceback": [
      "\u001b[0;31m---------------------------------------------------------------------------\u001b[0m",
      "\u001b[0;31mTelloException\u001b[0m                            Traceback (most recent call last)",
      "Cell \u001b[0;32mIn[45], line 4\u001b[0m\n\u001b[1;32m      3\u001b[0m \u001b[38;5;28;01mfor\u001b[39;00m i \u001b[38;5;129;01min\u001b[39;00m \u001b[38;5;28mrange\u001b[39m (\u001b[38;5;241m1\u001b[39m, \u001b[38;5;241m4\u001b[39m \u001b[38;5;241m*\u001b[39m \u001b[38;5;241m2\u001b[39m):\n\u001b[0;32m----> 4\u001b[0m     \u001b[43mtello\u001b[49m\u001b[38;5;241;43m.\u001b[39;49m\u001b[43mmove_forward\u001b[49m\u001b[43m(\u001b[49m\u001b[38;5;241;43m100\u001b[39;49m\u001b[43m)\u001b[49m\n\u001b[1;32m      5\u001b[0m     tello\u001b[38;5;241m.\u001b[39mrotate_clockwise(\u001b[38;5;241m90\u001b[39m)\n",
      "File \u001b[0;32m~/Project/RAI/robotics_lab_2/.venv/lib/python3.9/site-packages/djitellopy/enforce_types.py:54\u001b[0m, in \u001b[0;36menforce_types.<locals>.decorate.<locals>.wrapper\u001b[0;34m(*args, **kwargs)\u001b[0m\n\u001b[1;32m     53\u001b[0m check_types(spec, \u001b[38;5;241m*\u001b[39margs, \u001b[38;5;241m*\u001b[39m\u001b[38;5;241m*\u001b[39mkwargs)\n\u001b[0;32m---> 54\u001b[0m \u001b[38;5;28;01mreturn\u001b[39;00m func(\u001b[38;5;241m*\u001b[39margs, \u001b[38;5;241m*\u001b[39m\u001b[38;5;241m*\u001b[39mkwargs)\n",
      "File \u001b[0;32m~/Project/RAI/robotics_lab_2/.venv/lib/python3.9/site-packages/djitellopy/tello.py:656\u001b[0m, in \u001b[0;36mTello.move_forward\u001b[0;34m(self, x)\u001b[0m\n\u001b[1;32m    652\u001b[0m \u001b[38;5;250m\u001b[39m\u001b[38;5;124;03m\"\"\"Fly x cm forward.\u001b[39;00m\n\u001b[1;32m    653\u001b[0m \u001b[38;5;124;03mArguments:\u001b[39;00m\n\u001b[1;32m    654\u001b[0m \u001b[38;5;124;03m    x: 20-500\u001b[39;00m\n\u001b[1;32m    655\u001b[0m \u001b[38;5;124;03m\"\"\"\u001b[39;00m\n\u001b[0;32m--> 656\u001b[0m \u001b[38;5;28;43mself\u001b[39;49m\u001b[38;5;241;43m.\u001b[39;49m\u001b[43mmove\u001b[49m\u001b[43m(\u001b[49m\u001b[38;5;124;43m\"\u001b[39;49m\u001b[38;5;124;43mforward\u001b[39;49m\u001b[38;5;124;43m\"\u001b[39;49m\u001b[43m,\u001b[49m\u001b[43m \u001b[49m\u001b[43mx\u001b[49m\u001b[43m)\u001b[49m\n",
      "File \u001b[0;32m~/Project/RAI/robotics_lab_2/.venv/lib/python3.9/site-packages/djitellopy/enforce_types.py:54\u001b[0m, in \u001b[0;36menforce_types.<locals>.decorate.<locals>.wrapper\u001b[0;34m(*args, **kwargs)\u001b[0m\n\u001b[1;32m     53\u001b[0m check_types(spec, \u001b[38;5;241m*\u001b[39margs, \u001b[38;5;241m*\u001b[39m\u001b[38;5;241m*\u001b[39mkwargs)\n\u001b[0;32m---> 54\u001b[0m \u001b[38;5;28;01mreturn\u001b[39;00m func(\u001b[38;5;241m*\u001b[39margs, \u001b[38;5;241m*\u001b[39m\u001b[38;5;241m*\u001b[39mkwargs)\n",
      "File \u001b[0;32m~/Project/RAI/robotics_lab_2/.venv/lib/python3.9/site-packages/djitellopy/tello.py:621\u001b[0m, in \u001b[0;36mTello.move\u001b[0;34m(self, direction, x)\u001b[0m\n\u001b[1;32m    615\u001b[0m \u001b[38;5;250m\u001b[39m\u001b[38;5;124;03m\"\"\"Tello fly up, down, left, right, forward or back with distance x cm.\u001b[39;00m\n\u001b[1;32m    616\u001b[0m \u001b[38;5;124;03mUsers would normally call one of the move_x functions instead.\u001b[39;00m\n\u001b[1;32m    617\u001b[0m \u001b[38;5;124;03mArguments:\u001b[39;00m\n\u001b[1;32m    618\u001b[0m \u001b[38;5;124;03m    direction: up, down, left, right, forward or back\u001b[39;00m\n\u001b[1;32m    619\u001b[0m \u001b[38;5;124;03m    x: 20-500\u001b[39;00m\n\u001b[1;32m    620\u001b[0m \u001b[38;5;124;03m\"\"\"\u001b[39;00m\n\u001b[0;32m--> 621\u001b[0m \u001b[38;5;28;43mself\u001b[39;49m\u001b[38;5;241;43m.\u001b[39;49m\u001b[43msend_control_command\u001b[49m\u001b[43m(\u001b[49m\u001b[38;5;124;43m\"\u001b[39;49m\u001b[38;5;132;43;01m{}\u001b[39;49;00m\u001b[38;5;124;43m \u001b[39;49m\u001b[38;5;132;43;01m{}\u001b[39;49;00m\u001b[38;5;124;43m\"\u001b[39;49m\u001b[38;5;241;43m.\u001b[39;49m\u001b[43mformat\u001b[49m\u001b[43m(\u001b[49m\u001b[43mdirection\u001b[49m\u001b[43m,\u001b[49m\u001b[43m \u001b[49m\u001b[43mx\u001b[49m\u001b[43m)\u001b[49m\u001b[43m)\u001b[49m\n",
      "File \u001b[0;32m~/Project/RAI/robotics_lab_2/.venv/lib/python3.9/site-packages/djitellopy/enforce_types.py:54\u001b[0m, in \u001b[0;36menforce_types.<locals>.decorate.<locals>.wrapper\u001b[0;34m(*args, **kwargs)\u001b[0m\n\u001b[1;32m     53\u001b[0m check_types(spec, \u001b[38;5;241m*\u001b[39margs, \u001b[38;5;241m*\u001b[39m\u001b[38;5;241m*\u001b[39mkwargs)\n\u001b[0;32m---> 54\u001b[0m \u001b[38;5;28;01mreturn\u001b[39;00m func(\u001b[38;5;241m*\u001b[39margs, \u001b[38;5;241m*\u001b[39m\u001b[38;5;241m*\u001b[39mkwargs)\n",
      "File \u001b[0;32m~/Project/RAI/robotics_lab_2/.venv/lib/python3.9/site-packages/djitellopy/tello.py:487\u001b[0m, in \u001b[0;36mTello.send_control_command\u001b[0;34m(self, command, timeout)\u001b[0m\n\u001b[1;32m    485\u001b[0m     \u001b[38;5;28mself\u001b[39m\u001b[38;5;241m.\u001b[39mLOGGER\u001b[38;5;241m.\u001b[39mdebug(\u001b[38;5;124m\"\u001b[39m\u001b[38;5;124mCommand attempt #\u001b[39m\u001b[38;5;132;01m{}\u001b[39;00m\u001b[38;5;124m failed for command: \u001b[39m\u001b[38;5;124m'\u001b[39m\u001b[38;5;132;01m{}\u001b[39;00m\u001b[38;5;124m'\u001b[39m\u001b[38;5;124m\"\u001b[39m\u001b[38;5;241m.\u001b[39mformat(i, command))\n\u001b[0;32m--> 487\u001b[0m \u001b[38;5;28;43mself\u001b[39;49m\u001b[38;5;241;43m.\u001b[39;49m\u001b[43mraise_result_error\u001b[49m\u001b[43m(\u001b[49m\u001b[43mcommand\u001b[49m\u001b[43m,\u001b[49m\u001b[43m \u001b[49m\u001b[43mresponse\u001b[49m\u001b[43m)\u001b[49m\n\u001b[1;32m    488\u001b[0m \u001b[38;5;28;01mreturn\u001b[39;00m \u001b[38;5;28;01mFalse\u001b[39;00m\n",
      "File \u001b[0;32m~/Project/RAI/robotics_lab_2/.venv/lib/python3.9/site-packages/djitellopy/enforce_types.py:54\u001b[0m, in \u001b[0;36menforce_types.<locals>.decorate.<locals>.wrapper\u001b[0;34m(*args, **kwargs)\u001b[0m\n\u001b[1;32m     53\u001b[0m check_types(spec, \u001b[38;5;241m*\u001b[39margs, \u001b[38;5;241m*\u001b[39m\u001b[38;5;241m*\u001b[39mkwargs)\n\u001b[0;32m---> 54\u001b[0m \u001b[38;5;28;01mreturn\u001b[39;00m func(\u001b[38;5;241m*\u001b[39margs, \u001b[38;5;241m*\u001b[39m\u001b[38;5;241m*\u001b[39mkwargs)\n",
      "File \u001b[0;32m~/Project/RAI/robotics_lab_2/.venv/lib/python3.9/site-packages/djitellopy/tello.py:529\u001b[0m, in \u001b[0;36mTello.raise_result_error\u001b[0;34m(self, command, response)\u001b[0m\n\u001b[1;32m    528\u001b[0m tries \u001b[38;5;241m=\u001b[39m \u001b[38;5;241m1\u001b[39m \u001b[38;5;241m+\u001b[39m \u001b[38;5;28mself\u001b[39m\u001b[38;5;241m.\u001b[39mretry_count\n\u001b[0;32m--> 529\u001b[0m \u001b[38;5;28;01mraise\u001b[39;00m TelloException(\u001b[38;5;124m\"\u001b[39m\u001b[38;5;124mCommand \u001b[39m\u001b[38;5;124m'\u001b[39m\u001b[38;5;132;01m{}\u001b[39;00m\u001b[38;5;124m'\u001b[39m\u001b[38;5;124m was unsuccessful for \u001b[39m\u001b[38;5;132;01m{}\u001b[39;00m\u001b[38;5;124m tries. Latest response:\u001b[39m\u001b[38;5;130;01m\\t\u001b[39;00m\u001b[38;5;124m'\u001b[39m\u001b[38;5;132;01m{}\u001b[39;00m\u001b[38;5;124m'\u001b[39m\u001b[38;5;124m\"\u001b[39m\n\u001b[1;32m    530\u001b[0m                      \u001b[38;5;241m.\u001b[39mformat(command, tries, response))\n",
      "\u001b[0;31mTelloException\u001b[0m: Command 'forward 100' was unsuccessful for 4 tries. Latest response:\t'error Motor stop'",
      "\nDuring handling of the above exception, another exception occurred:\n",
      "\u001b[0;31mTelloException\u001b[0m                            Traceback (most recent call last)",
      "Cell \u001b[0;32mIn[45], line 10\u001b[0m\n\u001b[1;32m      8\u001b[0m \u001b[38;5;28;01mexcept\u001b[39;00m \u001b[38;5;167;01mException\u001b[39;00m \u001b[38;5;28;01mas\u001b[39;00m e:\n\u001b[1;32m      9\u001b[0m     \u001b[38;5;28mprint\u001b[39m(e)\n\u001b[0;32m---> 10\u001b[0m     \u001b[43mtello\u001b[49m\u001b[38;5;241;43m.\u001b[39;49m\u001b[43mland\u001b[49m\u001b[43m(\u001b[49m\u001b[43m)\u001b[49m\n\u001b[1;32m     11\u001b[0m     tello\u001b[38;5;241m.\u001b[39mend()\n",
      "File \u001b[0;32m~/Project/RAI/robotics_lab_2/.venv/lib/python3.9/site-packages/djitellopy/enforce_types.py:54\u001b[0m, in \u001b[0;36menforce_types.<locals>.decorate.<locals>.wrapper\u001b[0;34m(*args, **kwargs)\u001b[0m\n\u001b[1;32m     51\u001b[0m \u001b[38;5;129m@wraps\u001b[39m(func)\n\u001b[1;32m     52\u001b[0m \u001b[38;5;28;01mdef\u001b[39;00m\u001b[38;5;250m \u001b[39m\u001b[38;5;21mwrapper\u001b[39m(\u001b[38;5;241m*\u001b[39margs, \u001b[38;5;241m*\u001b[39m\u001b[38;5;241m*\u001b[39mkwargs):\n\u001b[1;32m     53\u001b[0m     check_types(spec, \u001b[38;5;241m*\u001b[39margs, \u001b[38;5;241m*\u001b[39m\u001b[38;5;241m*\u001b[39mkwargs)\n\u001b[0;32m---> 54\u001b[0m     \u001b[38;5;28;01mreturn\u001b[39;00m func(\u001b[38;5;241m*\u001b[39margs, \u001b[38;5;241m*\u001b[39m\u001b[38;5;241m*\u001b[39mkwargs)\n",
      "File \u001b[0;32m~/Project/RAI/robotics_lab_2/.venv/lib/python3.9/site-packages/djitellopy/tello.py:581\u001b[0m, in \u001b[0;36mTello.land\u001b[0;34m(self)\u001b[0m\n\u001b[1;32m    578\u001b[0m \u001b[38;5;28;01mdef\u001b[39;00m\u001b[38;5;250m \u001b[39m\u001b[38;5;21mland\u001b[39m(\u001b[38;5;28mself\u001b[39m):\n\u001b[1;32m    579\u001b[0m \u001b[38;5;250m    \u001b[39m\u001b[38;5;124;03m\"\"\"Automatic landing.\u001b[39;00m\n\u001b[1;32m    580\u001b[0m \u001b[38;5;124;03m    \"\"\"\u001b[39;00m\n\u001b[0;32m--> 581\u001b[0m     \u001b[38;5;28;43mself\u001b[39;49m\u001b[38;5;241;43m.\u001b[39;49m\u001b[43msend_control_command\u001b[49m\u001b[43m(\u001b[49m\u001b[38;5;124;43m\"\u001b[39;49m\u001b[38;5;124;43mland\u001b[39;49m\u001b[38;5;124;43m\"\u001b[39;49m\u001b[43m)\u001b[49m\n\u001b[1;32m    582\u001b[0m     \u001b[38;5;28mself\u001b[39m\u001b[38;5;241m.\u001b[39mis_flying \u001b[38;5;241m=\u001b[39m \u001b[38;5;28;01mFalse\u001b[39;00m\n",
      "File \u001b[0;32m~/Project/RAI/robotics_lab_2/.venv/lib/python3.9/site-packages/djitellopy/enforce_types.py:54\u001b[0m, in \u001b[0;36menforce_types.<locals>.decorate.<locals>.wrapper\u001b[0;34m(*args, **kwargs)\u001b[0m\n\u001b[1;32m     51\u001b[0m \u001b[38;5;129m@wraps\u001b[39m(func)\n\u001b[1;32m     52\u001b[0m \u001b[38;5;28;01mdef\u001b[39;00m\u001b[38;5;250m \u001b[39m\u001b[38;5;21mwrapper\u001b[39m(\u001b[38;5;241m*\u001b[39margs, \u001b[38;5;241m*\u001b[39m\u001b[38;5;241m*\u001b[39mkwargs):\n\u001b[1;32m     53\u001b[0m     check_types(spec, \u001b[38;5;241m*\u001b[39margs, \u001b[38;5;241m*\u001b[39m\u001b[38;5;241m*\u001b[39mkwargs)\n\u001b[0;32m---> 54\u001b[0m     \u001b[38;5;28;01mreturn\u001b[39;00m func(\u001b[38;5;241m*\u001b[39margs, \u001b[38;5;241m*\u001b[39m\u001b[38;5;241m*\u001b[39mkwargs)\n",
      "File \u001b[0;32m~/Project/RAI/robotics_lab_2/.venv/lib/python3.9/site-packages/djitellopy/tello.py:487\u001b[0m, in \u001b[0;36mTello.send_control_command\u001b[0;34m(self, command, timeout)\u001b[0m\n\u001b[1;32m    483\u001b[0m         \u001b[38;5;28;01mreturn\u001b[39;00m \u001b[38;5;28;01mTrue\u001b[39;00m\n\u001b[1;32m    485\u001b[0m     \u001b[38;5;28mself\u001b[39m\u001b[38;5;241m.\u001b[39mLOGGER\u001b[38;5;241m.\u001b[39mdebug(\u001b[38;5;124m\"\u001b[39m\u001b[38;5;124mCommand attempt #\u001b[39m\u001b[38;5;132;01m{}\u001b[39;00m\u001b[38;5;124m failed for command: \u001b[39m\u001b[38;5;124m'\u001b[39m\u001b[38;5;132;01m{}\u001b[39;00m\u001b[38;5;124m'\u001b[39m\u001b[38;5;124m\"\u001b[39m\u001b[38;5;241m.\u001b[39mformat(i, command))\n\u001b[0;32m--> 487\u001b[0m \u001b[38;5;28;43mself\u001b[39;49m\u001b[38;5;241;43m.\u001b[39;49m\u001b[43mraise_result_error\u001b[49m\u001b[43m(\u001b[49m\u001b[43mcommand\u001b[49m\u001b[43m,\u001b[49m\u001b[43m \u001b[49m\u001b[43mresponse\u001b[49m\u001b[43m)\u001b[49m\n\u001b[1;32m    488\u001b[0m \u001b[38;5;28;01mreturn\u001b[39;00m \u001b[38;5;28;01mFalse\u001b[39;00m\n",
      "File \u001b[0;32m~/Project/RAI/robotics_lab_2/.venv/lib/python3.9/site-packages/djitellopy/enforce_types.py:54\u001b[0m, in \u001b[0;36menforce_types.<locals>.decorate.<locals>.wrapper\u001b[0;34m(*args, **kwargs)\u001b[0m\n\u001b[1;32m     51\u001b[0m \u001b[38;5;129m@wraps\u001b[39m(func)\n\u001b[1;32m     52\u001b[0m \u001b[38;5;28;01mdef\u001b[39;00m\u001b[38;5;250m \u001b[39m\u001b[38;5;21mwrapper\u001b[39m(\u001b[38;5;241m*\u001b[39margs, \u001b[38;5;241m*\u001b[39m\u001b[38;5;241m*\u001b[39mkwargs):\n\u001b[1;32m     53\u001b[0m     check_types(spec, \u001b[38;5;241m*\u001b[39margs, \u001b[38;5;241m*\u001b[39m\u001b[38;5;241m*\u001b[39mkwargs)\n\u001b[0;32m---> 54\u001b[0m     \u001b[38;5;28;01mreturn\u001b[39;00m func(\u001b[38;5;241m*\u001b[39margs, \u001b[38;5;241m*\u001b[39m\u001b[38;5;241m*\u001b[39mkwargs)\n",
      "File \u001b[0;32m~/Project/RAI/robotics_lab_2/.venv/lib/python3.9/site-packages/djitellopy/tello.py:529\u001b[0m, in \u001b[0;36mTello.raise_result_error\u001b[0;34m(self, command, response)\u001b[0m\n\u001b[1;32m    525\u001b[0m \u001b[38;5;250m\u001b[39m\u001b[38;5;124;03m\"\"\"Used to reaise an error after an unsuccessful command\u001b[39;00m\n\u001b[1;32m    526\u001b[0m \u001b[38;5;124;03mInternal method, you normally wouldn't call this yourself.\u001b[39;00m\n\u001b[1;32m    527\u001b[0m \u001b[38;5;124;03m\"\"\"\u001b[39;00m\n\u001b[1;32m    528\u001b[0m tries \u001b[38;5;241m=\u001b[39m \u001b[38;5;241m1\u001b[39m \u001b[38;5;241m+\u001b[39m \u001b[38;5;28mself\u001b[39m\u001b[38;5;241m.\u001b[39mretry_count\n\u001b[0;32m--> 529\u001b[0m \u001b[38;5;28;01mraise\u001b[39;00m TelloException(\u001b[38;5;124m\"\u001b[39m\u001b[38;5;124mCommand \u001b[39m\u001b[38;5;124m'\u001b[39m\u001b[38;5;132;01m{}\u001b[39;00m\u001b[38;5;124m'\u001b[39m\u001b[38;5;124m was unsuccessful for \u001b[39m\u001b[38;5;132;01m{}\u001b[39;00m\u001b[38;5;124m tries. Latest response:\u001b[39m\u001b[38;5;130;01m\\t\u001b[39;00m\u001b[38;5;124m'\u001b[39m\u001b[38;5;132;01m{}\u001b[39;00m\u001b[38;5;124m'\u001b[39m\u001b[38;5;124m\"\u001b[39m\n\u001b[1;32m    530\u001b[0m                      \u001b[38;5;241m.\u001b[39mformat(command, tries, response))\n",
      "\u001b[0;31mTelloException\u001b[0m: Command 'land' was unsuccessful for 4 tries. Latest response:\t'error'"
     ]
    }
   ],
   "source": [
    "try:\n",
    "    # Move forward 100 cm, and turn right 90 deg. two times\n",
    "    for i in range (1, 4 * 2):\n",
    "        tello.move_forward(100)\n",
    "        tello.rotate_clockwise(90)\n",
    "\n",
    "except Exception as e:\n",
    "    print(e)\n",
    "    tello.land()\n",
    "    tello.end()"
   ]
  },
  {
   "cell_type": "code",
   "execution_count": null,
   "id": "95cad277",
   "metadata": {},
   "outputs": [
    {
     "name": "stderr",
     "output_type": "stream",
     "text": [
      "[INFO] tello.py - 438 - Send command: 'land'\n",
      "[2025-07-18 16:19:55,199] [    INFO] tello.py:438 - Send command: 'land'\n",
      "[INFO] tello.py - 462 - Response land: 'ok'\n",
      "[2025-07-18 16:19:59,911] [    INFO] tello.py:462 - Response land: 'ok'\n"
     ]
    }
   ],
   "source": [
    "tello.land()"
   ]
  }
 ],
 "metadata": {
  "kernelspec": {
   "display_name": ".venv",
   "language": "python",
   "name": "python3"
  },
  "language_info": {
   "codemirror_mode": {
    "name": "ipython",
    "version": 3
   },
   "file_extension": ".py",
   "mimetype": "text/x-python",
   "name": "python",
   "nbconvert_exporter": "python",
   "pygments_lexer": "ipython3",
   "version": "3.9.23"
  }
 },
 "nbformat": 4,
 "nbformat_minor": 5
}
