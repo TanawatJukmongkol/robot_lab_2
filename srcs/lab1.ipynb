{
 "cells": [
  {
   "cell_type": "code",
   "execution_count": 27,
   "id": "a480c926",
   "metadata": {},
   "outputs": [
    {
     "name": "stderr",
     "output_type": "stream",
     "text": [
      "[INFO] tello.py - 129 - Tello instance was initialized. Host: '192.168.10.1'. Port: '8889'.\n",
      "[DEBUG] tello.py - 435 - Waiting 0.001425027847290039 seconds to execute command: battery?...\n",
      "[INFO] tello.py - 438 - Send command: 'battery?'\n"
     ]
    },
    {
     "name": "stdout",
     "output_type": "stream",
     "text": [
      "Mission start!\n"
     ]
    },
    {
     "name": "stderr",
     "output_type": "stream",
     "text": [
      "[INFO] tello.py - 462 - Response battery?: '64'\n",
      "[DEBUG] tello.py - 435 - Waiting 0.0007712841033935547 seconds to execute command: command...\n",
      "[INFO] tello.py - 438 - Send command: 'command'\n"
     ]
    },
    {
     "name": "stdout",
     "output_type": "stream",
     "text": [
      "Battery: 64%\n"
     ]
    },
    {
     "name": "stderr",
     "output_type": "stream",
     "text": [
      "[INFO] tello.py - 462 - Response command: 'ok'\n",
      "[DEBUG] tello.py - 542 - '.connect()' received first state packet after 0.0 seconds\n",
      "[DEBUG] tello.py - 435 - Waiting 0.0009367465972900391 seconds to execute command: takeoff...\n",
      "[INFO] tello.py - 438 - Send command: 'takeoff'\n",
      "[INFO] tello.py - 462 - Response takeoff: 'ok'\n"
     ]
    },
    {
     "name": "stdout",
     "output_type": "stream",
     "text": [
      "Takeoff!\n"
     ]
    }
   ],
   "source": [
    "import time\n",
    "import logging\n",
    "from djitellopy import Tello\n",
    "\n",
    "Tello.LOGGER.setLevel(logging.DEBUG)\n",
    "\n",
    "start = time.time()\n",
    "\n",
    "try:\n",
    "    tello = Tello()\n",
    "\n",
    "    print(\"Mission start!\")\n",
    "    print(f\"Battery: {str(tello.query_battery())}%\")\n",
    "    tello.connect()\n",
    "    tello.takeoff()\n",
    "    print(\"Takeoff!\")\n",
    "\n",
    "except Exception as e:\n",
    "    raise Exception(f\"Tello: Fatal: {e}\")"
   ]
  },
  {
   "cell_type": "code",
   "execution_count": 28,
   "id": "4d4cd492",
   "metadata": {},
   "outputs": [
    {
     "name": "stderr",
     "output_type": "stream",
     "text": [
      "[DEBUG] tello.py - 435 - Waiting 0.047553300857543945 seconds to execute command: up 30...\n",
      "[INFO] tello.py - 438 - Send command: 'up 30'\n"
     ]
    },
    {
     "name": "stdout",
     "output_type": "stream",
     "text": [
      "Moving up...\n"
     ]
    },
    {
     "name": "stderr",
     "output_type": "stream",
     "text": [
      "[INFO] tello.py - 462 - Response up 30: 'ok'\n"
     ]
    },
    {
     "name": "stdout",
     "output_type": "stream",
     "text": [
      "Current height: 50 cm\n"
     ]
    }
   ],
   "source": [
    "try:\n",
    "    print(\"Moving up...\")\n",
    "    tello.move_up(30)\n",
    "    height = tello.get_height()\n",
    "    print(f\"Current height: {height} cm\")\n",
    "    # Wait for stabilization\n",
    "\n",
    "except Exception as e:\n",
    "    tello.land()\n",
    "    tello.end()\n",
    "    raise Exception(f\"Tello: Fatal: {e}\")"
   ]
  },
  {
   "cell_type": "code",
   "execution_count": 29,
   "id": "3a88784d",
   "metadata": {},
   "outputs": [
    {
     "name": "stderr",
     "output_type": "stream",
     "text": [
      "[DEBUG] tello.py - 435 - Waiting 0.008819341659545898 seconds to execute command: forward 100...\n",
      "[INFO] tello.py - 438 - Send command: 'forward 100'\n"
     ]
    },
    {
     "name": "stdout",
     "output_type": "stream",
     "text": [
      "Air maneuver initiate...\n",
      "Moving forward...\n"
     ]
    },
    {
     "name": "stderr",
     "output_type": "stream",
     "text": [
      "[INFO] tello.py - 462 - Response forward 100: 'ok'\n",
      "[DEBUG] tello.py - 435 - Waiting 0.0009207725524902344 seconds to execute command: cw 90...\n",
      "[INFO] tello.py - 438 - Send command: 'cw 90'\n"
     ]
    },
    {
     "name": "stdout",
     "output_type": "stream",
     "text": [
      "Turn right...\n"
     ]
    },
    {
     "name": "stderr",
     "output_type": "stream",
     "text": [
      "[INFO] tello.py - 462 - Response cw 90: 'ok'\n",
      "[DEBUG] tello.py - 435 - Waiting 0.0013666152954101562 seconds to execute command: forward 100...\n",
      "[INFO] tello.py - 438 - Send command: 'forward 100'\n"
     ]
    },
    {
     "name": "stdout",
     "output_type": "stream",
     "text": [
      "Moving forward...\n"
     ]
    },
    {
     "name": "stderr",
     "output_type": "stream",
     "text": [
      "[INFO] tello.py - 462 - Response forward 100: 'ok'\n",
      "[DEBUG] tello.py - 435 - Waiting 0.0014185905456542969 seconds to execute command: cw 90...\n",
      "[INFO] tello.py - 438 - Send command: 'cw 90'\n"
     ]
    },
    {
     "name": "stdout",
     "output_type": "stream",
     "text": [
      "Turn right...\n"
     ]
    },
    {
     "name": "stderr",
     "output_type": "stream",
     "text": [
      "[INFO] tello.py - 462 - Response cw 90: 'ok'\n",
      "[DEBUG] tello.py - 435 - Waiting 0.0008392333984375 seconds to execute command: forward 100...\n",
      "[INFO] tello.py - 438 - Send command: 'forward 100'\n"
     ]
    },
    {
     "name": "stdout",
     "output_type": "stream",
     "text": [
      "Moving forward...\n"
     ]
    },
    {
     "name": "stderr",
     "output_type": "stream",
     "text": [
      "[INFO] tello.py - 462 - Response forward 100: 'ok'\n",
      "[DEBUG] tello.py - 435 - Waiting 0.0005960464477539062 seconds to execute command: cw 90...\n",
      "[INFO] tello.py - 438 - Send command: 'cw 90'\n"
     ]
    },
    {
     "name": "stdout",
     "output_type": "stream",
     "text": [
      "Turn right...\n"
     ]
    },
    {
     "name": "stderr",
     "output_type": "stream",
     "text": [
      "[INFO] tello.py - 462 - Response cw 90: 'ok'\n",
      "[DEBUG] tello.py - 435 - Waiting 0.0014581680297851562 seconds to execute command: forward 100...\n",
      "[INFO] tello.py - 438 - Send command: 'forward 100'\n"
     ]
    },
    {
     "name": "stdout",
     "output_type": "stream",
     "text": [
      "Moving forward...\n"
     ]
    },
    {
     "name": "stderr",
     "output_type": "stream",
     "text": [
      "[INFO] tello.py - 462 - Response forward 100: 'ok'\n",
      "[DEBUG] tello.py - 435 - Waiting 0.0010509490966796875 seconds to execute command: cw 90...\n",
      "[INFO] tello.py - 438 - Send command: 'cw 90'\n"
     ]
    },
    {
     "name": "stdout",
     "output_type": "stream",
     "text": [
      "Turn right...\n"
     ]
    },
    {
     "name": "stderr",
     "output_type": "stream",
     "text": [
      "[INFO] tello.py - 462 - Response cw 90: 'ok'\n",
      "[DEBUG] tello.py - 435 - Waiting 0.0013778209686279297 seconds to execute command: forward 100...\n",
      "[INFO] tello.py - 438 - Send command: 'forward 100'\n"
     ]
    },
    {
     "name": "stdout",
     "output_type": "stream",
     "text": [
      "Moving forward...\n"
     ]
    },
    {
     "name": "stderr",
     "output_type": "stream",
     "text": [
      "[INFO] tello.py - 462 - Response forward 100: 'ok'\n",
      "[DEBUG] tello.py - 435 - Waiting 0.0014195442199707031 seconds to execute command: cw 90...\n",
      "[INFO] tello.py - 438 - Send command: 'cw 90'\n"
     ]
    },
    {
     "name": "stdout",
     "output_type": "stream",
     "text": [
      "Turn right...\n"
     ]
    },
    {
     "name": "stderr",
     "output_type": "stream",
     "text": [
      "[INFO] tello.py - 462 - Response cw 90: 'ok'\n",
      "[DEBUG] tello.py - 435 - Waiting 0.0007562637329101562 seconds to execute command: forward 100...\n",
      "[INFO] tello.py - 438 - Send command: 'forward 100'\n"
     ]
    },
    {
     "name": "stdout",
     "output_type": "stream",
     "text": [
      "Moving forward...\n"
     ]
    },
    {
     "name": "stderr",
     "output_type": "stream",
     "text": [
      "[INFO] tello.py - 462 - Response forward 100: 'ok'\n",
      "[DEBUG] tello.py - 435 - Waiting 0.0014739036560058594 seconds to execute command: cw 90...\n",
      "[INFO] tello.py - 438 - Send command: 'cw 90'\n"
     ]
    },
    {
     "name": "stdout",
     "output_type": "stream",
     "text": [
      "Turn right...\n"
     ]
    },
    {
     "name": "stderr",
     "output_type": "stream",
     "text": [
      "[INFO] tello.py - 462 - Response cw 90: 'ok'\n",
      "[DEBUG] tello.py - 435 - Waiting 0.0015034675598144531 seconds to execute command: forward 100...\n",
      "[INFO] tello.py - 438 - Send command: 'forward 100'\n"
     ]
    },
    {
     "name": "stdout",
     "output_type": "stream",
     "text": [
      "Moving forward...\n"
     ]
    },
    {
     "name": "stderr",
     "output_type": "stream",
     "text": [
      "[INFO] tello.py - 462 - Response forward 100: 'ok'\n",
      "[DEBUG] tello.py - 435 - Waiting 0.0010249614715576172 seconds to execute command: cw 90...\n",
      "[INFO] tello.py - 438 - Send command: 'cw 90'\n"
     ]
    },
    {
     "name": "stdout",
     "output_type": "stream",
     "text": [
      "Turn right...\n"
     ]
    },
    {
     "name": "stderr",
     "output_type": "stream",
     "text": [
      "[INFO] tello.py - 462 - Response cw 90: 'ok'\n",
      "[DEBUG] tello.py - 435 - Waiting 0.0009446144104003906 seconds to execute command: forward 100...\n",
      "[INFO] tello.py - 438 - Send command: 'forward 100'\n"
     ]
    },
    {
     "name": "stdout",
     "output_type": "stream",
     "text": [
      "Moving forward...\n"
     ]
    },
    {
     "name": "stderr",
     "output_type": "stream",
     "text": [
      "[INFO] tello.py - 462 - Response forward 100: 'ok'\n",
      "[DEBUG] tello.py - 435 - Waiting 0.0014090538024902344 seconds to execute command: cw 90...\n",
      "[INFO] tello.py - 438 - Send command: 'cw 90'\n"
     ]
    },
    {
     "name": "stdout",
     "output_type": "stream",
     "text": [
      "Turn right...\n"
     ]
    },
    {
     "name": "stderr",
     "output_type": "stream",
     "text": [
      "[INFO] tello.py - 462 - Response cw 90: 'ok'\n"
     ]
    }
   ],
   "source": [
    "try:\n",
    "    # Move forward 100 cm, and turn right 90 deg. two times\n",
    "    print(\"Air maneuver initiate...\")\n",
    "    for i in range (1, (4 * 2) + 1):\n",
    "        print(\"Moving forward...\")\n",
    "        tello.move_forward(100)\n",
    "        print(\"Turn right...\")\n",
    "        tello.rotate_clockwise(90)\n",
    "\n",
    "except Exception as e:\n",
    "    tello.land()\n",
    "    tello.end()\n",
    "    raise Exception(f\"Tello: Fatal: {e}\")"
   ]
  },
  {
   "cell_type": "code",
   "execution_count": null,
   "id": "95cad277",
   "metadata": {},
   "outputs": [
    {
     "name": "stderr",
     "output_type": "stream",
     "text": [
      "[DEBUG] tello.py - 435 - Waiting 0.007262468338012695 seconds to execute command: land...\n",
      "[INFO] tello.py - 438 - Send command: 'land'\n"
     ]
    },
    {
     "name": "stdout",
     "output_type": "stream",
     "text": [
      "Landing...\n"
     ]
    },
    {
     "name": "stderr",
     "output_type": "stream",
     "text": [
      "[INFO] tello.py - 462 - Response land: 'ok'\n",
      "[DEBUG] tello.py - 435 - Waiting 0.0011475086212158203 seconds to execute command: battery?...\n",
      "[INFO] tello.py - 438 - Send command: 'battery?'\n",
      "[INFO] tello.py - 462 - Response battery?: '57'\n"
     ]
    },
    {
     "name": "stdout",
     "output_type": "stream",
     "text": [
      "Tello, landing successfully!\n",
      "Mission time: -57.42103457450867, Battery remaining: 57%\n"
     ]
    }
   ],
   "source": [
    "print(\"Landing...\")\n",
    "tello.land()\n",
    "\n",
    "end = time.time()\n",
    "print(\"Tello, landing successfully!\")\n",
    "print(f\"Mission time: {end - start}, Battery remaining: {str(tello.query_battery())}%\")\n",
    "\n",
    "tello.end()"
   ]
  }
 ],
 "metadata": {
  "kernelspec": {
   "display_name": ".venv",
   "language": "python",
   "name": "python3"
  },
  "language_info": {
   "codemirror_mode": {
    "name": "ipython",
    "version": 3
   },
   "file_extension": ".py",
   "mimetype": "text/x-python",
   "name": "python",
   "nbconvert_exporter": "python",
   "pygments_lexer": "ipython3",
   "version": "3.9.23"
  }
 },
 "nbformat": 4,
 "nbformat_minor": 5
}
